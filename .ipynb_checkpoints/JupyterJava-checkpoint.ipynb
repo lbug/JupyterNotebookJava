{
 "cells": [
  {
   "cell_type": "code",
   "execution_count": 8,
   "metadata": {},
   "outputs": [
    {
     "name": "stdout",
     "output_type": "stream",
     "text": [
      "Bitte Namen eingeben:\n",
      "test\n"
     ]
    }
   ],
   "source": [
    "Scanner scanner = new Scanner(System.in);\n",
    "System.out.println(\"Bitte Namen eingeben:\");\n",
    "String name = scanner.nextLine();"
   ]
  },
  {
   "cell_type": "code",
   "execution_count": 9,
   "metadata": {},
   "outputs": [
    {
     "name": "stdout",
     "output_type": "stream",
     "text": [
      "Wer bist du und was tust du hier?\n"
     ]
    }
   ],
   "source": [
    "if(name.equalsIgnoreCase(\"oliver\")){\n",
    "    System.out.println(\"Hi Oliver, du scheinst bei der richtigen Adresse gelandet zu sein!\");\n",
    "}\n",
    "else{\n",
    "    System.out.println(\"Wer bist du und was tust du hier?\");\n",
    "}"
   ]
  },
  {
   "cell_type": "code",
   "execution_count": null,
   "metadata": {},
   "outputs": [],
   "source": []
  }
 ],
 "metadata": {
  "kernelspec": {
   "display_name": "Java",
   "language": "java",
   "name": "java"
  },
  "language_info": {
   "codemirror_mode": "java",
   "file_extension": ".java",
   "mimetype": "text/x-java-source",
   "name": "Java",
   "pygments_lexer": "java",
   "version": "11.0.1+13"
  }
 },
 "nbformat": 4,
 "nbformat_minor": 2
}
