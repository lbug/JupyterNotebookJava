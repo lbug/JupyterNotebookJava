{
 "cells": [
  {
   "cell_type": "markdown",
   "metadata": {},
   "source": [
    " \n",
    "  Hi! Habe Dir ein kleines Beispiel gebaut. Du kannst die Zellen einzeln auswählen und anschließend mittels \"Run\"\n",
    "  ausführen lassen. Neue Zeilen kannst du mittels dem \"+\" hinzufügen. Tob dich aus!\n",
    "  \n",
    "  Bedenke: Änderungen die du tätigst werden nicht gespeichert. Du kannst bei Bedarf unter \"File\" -> \"Download as\"\n",
    "  allerdings in das Format deines Beliebens exportieren.\n"
   ]
  },
  {
   "cell_type": "code",
   "execution_count": null,
   "metadata": {},
   "outputs": [],
   "source": [
    "Scanner scanner = new Scanner(System.in);\n",
    "System.out.println(\"Bitte Vorname eingeben:\");\n",
    "String vorname = scanner.nextLine();"
   ]
  },
  {
   "cell_type": "code",
   "execution_count": null,
   "metadata": {},
   "outputs": [],
   "source": [
    "if(vorname.equalsIgnoreCase(\"oliver\")){\n",
    "    System.out.println(\"Hi Oliver, du scheinst bei der richtigen Adresse gelandet zu sein!\");\n",
    "}\n",
    "else{\n",
    "    System.out.println(\"Wer bist du und was tust du hier?\");\n",
    "}"
   ]
  },
  {
   "cell_type": "code",
   "execution_count": null,
   "metadata": {},
   "outputs": [],
   "source": []
  }
 ],
 "metadata": {
  "kernelspec": {
   "display_name": "Java",
   "language": "java",
   "name": "java"
  },
  "language_info": {
   "codemirror_mode": "java",
   "file_extension": ".java",
   "mimetype": "text/x-java-source",
   "name": "Java",
   "pygments_lexer": "java",
   "version": "11.0.1+13"
  }
 },
 "nbformat": 4,
 "nbformat_minor": 2
}
